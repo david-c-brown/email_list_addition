{
 "cells": [
  {
   "cell_type": "code",
   "execution_count": null,
   "metadata": {},
   "outputs": [],
   "source": [
    "\n",
    "import requests\n",
    "from selenium import webdriver\n",
    "from selenium.webdriver.common.by import By\n",
    "from selenium.webdriver.support.ui import Select\n",
    "import pyautogui as pg\n",
    "import time\n",
    "from tqdm import tqdm\n",
    "import pandas as pd\n",
    "from config import *\n",
    "from functions import *\n",
    "\n",
    "# Read in the list of names we will be adding to the CRM for each location\n",
    "df =  pd.read_csv('email_list.csv')\n",
    "actives = df['Name'].values.tolist()\n",
    "actives = [h.title() for h in actives]\n",
    "\n",
    "#getting connected. chrome_options used for a specific function in private version\n",
    "response = requests.get(url)\n",
    "chrome_options = webdriver.ChromeOptions()\n",
    "\n",
    "driver = webdriver.Chrome(options=chrome_options)\n",
    "driver.get(url)\n",
    "\n",
    "#locate login fields\n",
    "username = driver.find_element( By.ID, 'user_email')\n",
    "password = driver.find_element(By.ID, 'user_password')\n",
    "\n",
    "# enter the login credentials\n",
    "username.send_keys(u)\n",
    "password.send_keys(pw)\n",
    "\n",
    "# login\n",
    "login_button = driver.find_element(By.NAME, 'commit')\n",
    "login_button.click()\n",
    "\n",
    "# begin navigation\n",
    "dropdown = driver.find_element(By.ID, 'user-usurp')\n",
    "dropdown.click()\n",
    "\n",
    "# create a list of dropdown options and return the display text to enable simpler iteration\n",
    "options = Select(driver.find_elements(By.ID, \"user-userp\")).text()\n",
    "\n",
    "# cycle through each location navigating through menus\n",
    "for i in options:\n",
    "    location = driver.find_element(By.LINK_TEXT, i)\n",
    "    location.click()\n",
    "    sources = driver.find_element(By.LINK_TEXT, 'Sources')\n",
    "    sources.click()\n",
    "    time.sleep(1)\n",
    "    # cycle through each potential individual in each clinic\n",
    "    for g in tqdm(actives):\n",
    "        search_referrer = driver.find_element(By.NAME, 'search_referrer')\n",
    "        search_referrer.send_keys(g)\n",
    "        pg.press('enter')\n",
    "        time.sleep(1)\n",
    "        # defined in function. uses pyautogui to locate interactions for elements stored in strange ways\n",
    "        add_to_list()\n",
    "        # clears the search bar for the next one\n",
    "        search_referrer.clear()\n",
    "    # preps for the next iteration\n",
    "    dropdown = driver.find_element(By.CLASS_NAME, \"dropdown-toggle\")\n",
    "    dropdown.click()  \n",
    "\n"
   ]
  }
 ],
 "metadata": {
  "kernelspec": {
   "display_name": "Python 3",
   "language": "python",
   "name": "python3"
  },
  "language_info": {
   "codemirror_mode": {
    "name": "ipython",
    "version": 3
   },
   "file_extension": ".py",
   "mimetype": "text/x-python",
   "name": "python",
   "nbconvert_exporter": "python",
   "pygments_lexer": "ipython3",
   "version": "3.10.2 (tags/v3.10.2:a58ebcc, Jan 17 2022, 14:12:15) [MSC v.1929 64 bit (AMD64)]"
  },
  "orig_nbformat": 4,
  "vscode": {
   "interpreter": {
    "hash": "83d8703ac5efc378427719bbfa5fc32aa6b237f946df66ad774f47419e4861c2"
   }
  }
 },
 "nbformat": 4,
 "nbformat_minor": 2
}
